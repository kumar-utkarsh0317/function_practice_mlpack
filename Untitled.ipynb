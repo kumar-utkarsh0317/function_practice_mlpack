{
 "cells": [
  {
   "cell_type": "code",
   "execution_count": 2,
   "id": "a1d32e63-3e2b-453c-9a6c-5ef273fd02ba",
   "metadata": {},
   "outputs": [
    {
     "name": "stderr",
     "output_type": "stream",
     "text": [
      "Unknown magic line function %conda\n"
     ]
    }
   ],
   "source": [
    "%conda -I/home/kumar/Desktop/mlpack_source_code_and_build/mlpack\n"
   ]
  },
  {
   "cell_type": "code",
   "execution_count": null,
   "id": "0979ad46-2c10-488e-b2ba-521c5f67b22a",
   "metadata": {},
   "outputs": [],
   "source": []
  }
 ],
 "metadata": {
  "kernelspec": {
   "display_name": "C++11",
   "language": "C++11",
   "name": "xcpp11"
  },
  "language_info": {
   "codemirror_mode": "text/x-c++src",
   "file_extension": ".cpp",
   "mimetype": "text/x-c++src",
   "name": "c++",
   "version": "11"
  }
 },
 "nbformat": 4,
 "nbformat_minor": 5
}
